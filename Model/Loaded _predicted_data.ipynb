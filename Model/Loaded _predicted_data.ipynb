{
 "cells": [
  {
   "cell_type": "code",
   "execution_count": 5,
   "metadata": {},
   "outputs": [],
   "source": [
    "from scipy.io import savemat\n",
    "\n",
    "import pandas as pd\n",
    "import numpy as np\n",
    "import pickle as pkl\n",
    "from sklearn.preprocessing import StandardScaler\n",
    "\n",
    "import torch\n",
    "from torch import nn\n",
    "from torch.utils.data import Dataset, DataLoader\n",
    "import matplotlib.pyplot as plt\n",
    "\n",
    "import tqdm\n",
    "import seaborn as sns\n",
    "\n",
    "from models import MLP, TandemNet, cVAE, cGAN, INN\n",
    "from utils import evaluate_simple_inverse, evaluate_tandem_accuracy, evaluate_vae_inverse, evaluate_gan_inverse, evaluate_inn_inverse\n",
    "from configs import get_configs\n",
    "from plotting_utils import compare_cie_dist, compare_param_dist, plot_cie, plot_cie_raw_pred\n",
    "from datasets import get_dataloaders, SiliconColor\n",
    "\n",
    "from sklearn.metrics import r2_score\n",
    "\n",
    "#DEVICE = 'cuda' if torch.cuda.is_available() else 'cpu'\n",
    "DEVICE = 'cpu'\n",
    "train_loader, val_loader, test_loader = get_dataloaders('tandem_net')\n"
   ]
  },
  {
   "cell_type": "markdown",
   "metadata": {},
   "source": [
    "###  Loading Data Predicted for Direct iinverse training"
   ]
  },
  {
   "cell_type": "code",
   "execution_count": 61,
   "metadata": {},
   "outputs": [
    {
     "name": "stdout",
     "output_type": "stream",
     "text": [
      "Simple net Design RMSE loss 1.683\n",
      "Simple net RMSE loss 117.920\n",
      "Reconstruct RMSE loss 1.175\n",
      "Reconstruct RMSE loss raw 0.593\n"
     ]
    }
   ],
   "source": [
    "forward_model = MLP(4, 3).to(DEVICE)\n",
    "forward_model.load_state_dict(torch.load('./models/forward_model.pth',map_location=torch.device('cpu'))['model_state_dict'])\n",
    "inverse_model = MLP(3, 4).to(DEVICE)\n",
    "inverse_model.load_state_dict(torch.load('./models/inverse_model.pth',map_location=torch.device('cpu'))['model_state_dict'])\n",
    "\n",
    "\n",
    "\n",
    "\n",
    "cie_raw, param_raw, cie_pred, param_pred = evaluate_simple_inverse(forward_model, inverse_model, test_loader.dataset)\n",
    "# Saving the predicted data\n",
    "mdic = {\"param_pred\": param_pred}\n",
    "savemat(\"data_predicted\\param_inverse_pred.mat\",mdic)\n",
    "\n",
    "# Saving testing data (all modeel are the same)\n",
    "mdic = {\"param_test\": param_raw,\"CIE_x\": cie_raw}\n",
    "savemat(\"testing_data.mat\",mdic)"
   ]
  },
  {
   "cell_type": "code",
   "execution_count": null,
   "metadata": {},
   "outputs": [],
   "source": []
  },
  {
   "cell_type": "markdown",
   "metadata": {},
   "source": [
    "### Loading Data predicted for Tandem (fixed decoder)"
   ]
  },
  {
   "cell_type": "code",
   "execution_count": 48,
   "metadata": {},
   "outputs": [
    {
     "name": "stdout",
     "output_type": "stream",
     "text": [
      "Tandem net Design RMSE loss 3.639\n",
      "Tandem Design RMSE loss 249.367\n",
      "Reconstruct RMSE loss 0.306\n",
      "Reconstruct RMSE loss raw 0.121\n"
     ]
    }
   ],
   "source": [
    "tandem_model = TandemNet(forward_model, inverse_model)\n",
    "tandem_model.load_state_dict(torch.load('./models/tandem_net.pth',map_location=torch.device('cpu'))['model_state_dict'])\n",
    "cie_raw, param_raw, cie_pred, param_pred = evaluate_tandem_accuracy(tandem_model, test_loader.dataset)\n",
    "\n",
    "mdic = {\"param_pred\": param_pred}\n",
    "savemat(\"data_predicted\\param_tandem_pred.mat\",mdic)\n",
    "\n"
   ]
  },
  {
   "cell_type": "markdown",
   "metadata": {},
   "source": [
    "### Loading VAE"
   ]
  },
  {
   "cell_type": "code",
   "execution_count": 49,
   "metadata": {},
   "outputs": [
    {
     "name": "stdout",
     "output_type": "stream",
     "text": [
      "Simple net Design RMSE loss 1.955\n",
      "Simple net RMSE loss 139.427\n",
      "Reconstruct RMSE loss 4.398\n",
      "Reconstruct RMSE loss raw 1.258\n"
     ]
    }
   ],
   "source": [
    "configs = get_configs('vae')\n",
    "vae_model = cVAE(configs['input_dim'], configs['latent_dim']).to(DEVICE)\n",
    "vae_model.load_state_dict(torch.load('./models/vae.pth',map_location=torch.device('cpu'))['model_state_dict'])\n",
    "\n",
    "cie_raw, param_raw, cie_pred, param_pred = evaluate_vae_inverse(forward_model, vae_model, configs, test_loader.dataset)\n",
    "\n",
    "# Saving the predicted data\n",
    "mdic = {\"param_pred\": param_pred}\n",
    "savemat(\"data_predicted\\param_vae_pred.mat\",mdic)\n",
    "\n"
   ]
  },
  {
   "cell_type": "markdown",
   "metadata": {},
   "source": [
    "### Loading GAN\n"
   ]
  },
  {
   "cell_type": "code",
   "execution_count": 50,
   "metadata": {},
   "outputs": [
    {
     "name": "stdout",
     "output_type": "stream",
     "text": [
      "Simple net Design RMSE loss 2.851\n",
      "Simple net RMSE loss 183.594\n",
      "Reconstruct RMSE loss 4.276\n",
      "Reconstruct RMSE loss raw 2.079\n"
     ]
    }
   ],
   "source": [
    "configs = get_configs('gan')\n",
    "cgan = cGAN(3, 4, noise_dim = configs['noise_dim'], hidden_dim = 128).to(DEVICE)\n",
    "cgan.load_state_dict(torch.load('./models/gan.pth',map_location=torch.device('cpu'))['model_state_dict'])\n",
    "\n",
    "cie_raw, param_raw, cie_pred, param_pred = evaluate_gan_inverse(forward_model, cgan, configs, test_loader.dataset)\n",
    "\n",
    "# Saving the predicted data\n",
    "mdic = {\"param_pred\": param_pred}\n",
    "savemat(\"data_predicted\\param_gan_pred.mat\",mdic)\n"
   ]
  },
  {
   "cell_type": "markdown",
   "metadata": {},
   "source": [
    "### Loading INN"
   ]
  },
  {
   "cell_type": "code",
   "execution_count": 51,
   "metadata": {},
   "outputs": [
    {
     "name": "stdout",
     "output_type": "stream",
     "text": [
      "Simple net Design RMSE loss 2.085\n",
      "Simple net RMSE loss 148.667\n",
      "Reconstruct RMSE loss 6.459\n",
      "Reconstruct RMSE loss raw 2.243\n"
     ]
    }
   ],
   "source": [
    "configs = get_configs('inn')\n",
    "model = INN(configs['ndim_total'], configs['input_dim'], configs['output_dim'], dim_z = configs['latent_dim']).to(DEVICE)\n",
    "model.load_state_dict(torch.load('./models/inn.pth',map_location=torch.device('cpu'))['model_state_dict'], strict=False)\n",
    "\n",
    "train_loader, val_loader, test_loader = get_dataloaders('tandem_net')\n",
    "cie_raw, param_raw, cie_pred, param_pred = evaluate_inn_inverse(forward_model, model, configs, test_loader.dataset)\n",
    "\n",
    "# Saving the predicted data\n",
    "mdic = {\"param_pred\": param_pred}\n",
    "savemat(\"data_predicted\\param_inn_pred.mat\",mdic)\n",
    "\n"
   ]
  },
  {
   "cell_type": "code",
   "execution_count": null,
   "metadata": {},
   "outputs": [],
   "source": []
  }
 ],
 "metadata": {
  "kernelspec": {
   "display_name": "Python 3",
   "language": "python",
   "name": "python3"
  },
  "language_info": {
   "codemirror_mode": {
    "name": "ipython",
    "version": 3
   },
   "file_extension": ".py",
   "mimetype": "text/x-python",
   "name": "python",
   "nbconvert_exporter": "python",
   "pygments_lexer": "ipython3",
   "version": "3.8.3"
  }
 },
 "nbformat": 4,
 "nbformat_minor": 4
}
