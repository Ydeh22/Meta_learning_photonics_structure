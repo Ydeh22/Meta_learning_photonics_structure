{
 "cells": [
  {
   "cell_type": "code",
   "execution_count": 4,
   "metadata": {},
   "outputs": [],
   "source": [
    "from scipy.io import savemat\n",
    "\n",
    "import pandas as pd\n",
    "import numpy as np\n",
    "import pickle as pkl\n",
    "from sklearn.preprocessing import StandardScaler\n",
    "\n",
    "import torch\n",
    "from torch import nn\n",
    "from torch.utils.data import Dataset, DataLoader\n",
    "import matplotlib.pyplot as plt\n",
    "\n",
    "import tqdm\n",
    "import seaborn as sns\n",
    "\n",
    "from models import MLP, TandemNet, cVAE, cGAN, INN\n",
    "from utils import evaluate_simple_inverse, evaluate_tandem_accuracy, evaluate_vae_inverse, evaluate_gan_inverse, evaluate_inn_inverse\n",
    "from configs import get_configs\n",
    "from plotting_utils import compare_cie_dist, compare_param_dist, plot_cie, plot_cie_raw_pred\n",
    "from datasets import get_dataloaders, SiliconColor\n",
    "\n",
    "from sklearn.metrics import r2_score\n",
    "\n",
    "#DEVICE = 'cuda' if torch.cuda.is_available() else 'cpu'\n",
    "DEVICE = 'cpu'\n",
    "train_loader, val_loader, test_loader = get_dataloaders('tandem_net')\n"
   ]
  },
  {
   "cell_type": "markdown",
   "metadata": {},
   "source": [
    "### Define function for checking the correctness of predicted structures"
   ]
  },
  {
   "cell_type": "code",
   "execution_count": 46,
   "metadata": {},
   "outputs": [],
   "source": [
    "def struc_check(structure):\n",
    "    if np.sum(abs(structure)-structure)>0:  # if get negative parameters, then wrong structure\n",
    "        return 0\n",
    "    else:\n",
    "        struc = np.reshape(structure, (-1, 4));\n",
    "        N = np.shape(struc)[0]\n",
    "        print(struc)\n",
    "        for i in range(N):\n",
    "            if (struc[i,1]+struc[i,3]>=struc[i,2]):  # if gap+diameter >= period, then wrong structure\n",
    "                return 0;\n",
    "            \n",
    "        return 1;"
   ]
  },
  {
   "cell_type": "markdown",
   "metadata": {},
   "source": [
    "###  Loading Data Predicted for Direct inverse training"
   ]
  },
  {
   "cell_type": "code",
   "execution_count": 31,
   "metadata": {},
   "outputs": [
    {
     "name": "stdout",
     "output_type": "stream",
     "text": [
      "Simple net Design RMSE loss 1.659\n",
      "Simple net RMSE loss 111.462\n",
      "Reconstruct RMSE loss 0.612\n",
      "Reconstruct RMSE loss raw 0.076\n"
     ]
    }
   ],
   "source": [
    "forward_model = MLP(4, 3).to(DEVICE)\n",
    "forward_model.load_state_dict(torch.load('./models/forward_model_trained.pth',map_location=torch.device('cpu'))['model_state_dict'])\n",
    "inverse_model = MLP(3, 4).to(DEVICE)\n",
    "inverse_model.load_state_dict(torch.load('./models/inverse_model_trained.pth',map_location=torch.device('cpu'))['model_state_dict'])\n",
    "\n",
    "\n",
    "cie_raw, param_raw, cie_pred, param_pred = evaluate_simple_inverse(forward_model, inverse_model, test_loader.dataset)\n",
    "M = np.shape(cie_raw)[0]\n",
    "# Saving the predicted data and also the original training data together \n",
    "j = 0\n",
    "for i in range(M):\n",
    "    \n",
    "    \n",
    "    \n",
    "mdic = {\"param_pred\": param_pred,\"param_test\": param_raw,\"CIE_x\": cie_raw}\n",
    "savemat(\"data_predicted\\param_inverse_pred.mat\",mdic)\n",
    "\n",
    "# Saving testing data (all modeel are the same)\n",
    "mdic = {\"param_test\": param_raw,\"CIE_x\": cie_raw}\n",
    "savemat('data_predicted\\data_testing.mat',mdic)\n"
   ]
  },
  {
   "cell_type": "code",
   "execution_count": null,
   "metadata": {},
   "outputs": [],
   "source": []
  },
  {
   "cell_type": "markdown",
   "metadata": {},
   "source": [
    "### Loading Data predicted for Tandem (fixed decoder)"
   ]
  },
  {
   "cell_type": "code",
   "execution_count": 35,
   "metadata": {},
   "outputs": [
    {
     "name": "stdout",
     "output_type": "stream",
     "text": [
      "Tandem net Design RMSE loss 2.273\n",
      "Tandem Design RMSE loss 153.133\n",
      "Reconstruct RMSE loss 0.203\n",
      "Reconstruct RMSE loss raw 0.025\n"
     ]
    }
   ],
   "source": [
    "tandem_model = TandemNet(forward_model, inverse_model)\n",
    "tandem_model.load_state_dict(torch.load('./models/tandem_net_trained.pth',map_location=torch.device('cpu'))['model_state_dict'])\n",
    "cie_raw, param_raw, cie_pred, param_pred = evaluate_tandem_accuracy(tandem_model, test_loader.dataset)\n",
    "\n",
    "mdic = {\"param_pred\": param_pred,\"param_test\": param_raw,\"CIE_x\": cie_raw}\n",
    "savemat(\"data_predicted\\param_tandem_pred.mat\",mdic)\n"
   ]
  },
  {
   "cell_type": "markdown",
   "metadata": {},
   "source": [
    "### Loading VAE"
   ]
  },
  {
   "cell_type": "code",
   "execution_count": 42,
   "metadata": {},
   "outputs": [
    {
     "name": "stdout",
     "output_type": "stream",
     "text": [
      "Simple net Design RMSE loss 1.977\n",
      "Simple net RMSE loss 127.359\n",
      "Reconstruct RMSE loss 0.846\n",
      "Reconstruct RMSE loss raw 0.107\n",
      "Simple net Design RMSE loss 1.971\n",
      "Simple net RMSE loss 126.434\n",
      "Reconstruct RMSE loss 0.851\n",
      "Reconstruct RMSE loss raw 0.108\n",
      "Simple net Design RMSE loss 1.970\n",
      "Simple net RMSE loss 127.684\n",
      "Reconstruct RMSE loss 0.848\n",
      "Reconstruct RMSE loss raw 0.108\n",
      "Simple net Design RMSE loss 1.972\n",
      "Simple net RMSE loss 127.008\n",
      "Reconstruct RMSE loss 0.854\n",
      "Reconstruct RMSE loss raw 0.108\n",
      "Simple net Design RMSE loss 1.988\n",
      "Simple net RMSE loss 126.845\n",
      "Reconstruct RMSE loss 0.845\n",
      "Reconstruct RMSE loss raw 0.107\n",
      "[117.99251203 241.46220995 576.95083995 149.44528419 130.49229993\n",
      " 284.9304042  596.87736339 143.02588886 111.64615283 240.64331808\n",
      " 583.27546121 150.71603313 131.50109387 251.84657023 580.34361379\n",
      " 143.81422012 114.71137796 221.41466188 536.07680277 152.13184117]\n"
     ]
    }
   ],
   "source": [
    "configs = get_configs('vae')\n",
    "vae_model = cVAE(configs['input_dim'], configs['latent_dim']).to(DEVICE)\n",
    "vae_model.load_state_dict(torch.load('./models/vae_trained.pth',map_location=torch.device('cpu'))['model_state_dict'])\n",
    "\n",
    "param_pred = np.zeros([M, 4*5])\n",
    "for i in range(5):\n",
    "    cie_raw, param_raw, cie_pred, param_pred[:,(4*i):(4*i+4)] = evaluate_vae_inverse(forward_model, vae_model, configs, test_loader.dataset)\n",
    "\n",
    "for i in range(M):\n",
    "    \n",
    "# Saving the predicted data\n",
    "mdic = {\"param_pred\": param_pred,}\n",
    "savemat(\"data_predicted\\param_vae_pred.mat\",mdic)\n",
    "print(param_pred[1,:])\n",
    "\n"
   ]
  },
  {
   "cell_type": "markdown",
   "metadata": {},
   "source": [
    "### Loading GAN\n"
   ]
  },
  {
   "cell_type": "code",
   "execution_count": 50,
   "metadata": {},
   "outputs": [
    {
     "name": "stdout",
     "output_type": "stream",
     "text": [
      "Simple net Design RMSE loss 2.851\n",
      "Simple net RMSE loss 183.594\n",
      "Reconstruct RMSE loss 4.276\n",
      "Reconstruct RMSE loss raw 2.079\n"
     ]
    }
   ],
   "source": [
    "configs = get_configs('gan')\n",
    "cgan = cGAN(3, 4, noise_dim = configs['noise_dim'], hidden_dim = 128).to(DEVICE)\n",
    "cgan.load_state_dict(torch.load('./models/gan_trained.pth',map_location=torch.device('cpu'))['model_state_dict'])\n",
    "\n",
    "cie_raw, param_raw, cie_pred, param_pred = evaluate_gan_inverse(forward_model, cgan, configs, test_loader.dataset)\n",
    "\n",
    "# Saving the predicted data\n",
    "mdic = {\"param_pred\": param_pred}\n",
    "savemat(\"data_predicted\\param_gan_pred.mat\",mdic)\n"
   ]
  },
  {
   "cell_type": "markdown",
   "metadata": {},
   "source": [
    "### Loading INN"
   ]
  },
  {
   "cell_type": "code",
   "execution_count": 12,
   "metadata": {},
   "outputs": [
    {
     "name": "stdout",
     "output_type": "stream",
     "text": [
      "Simple net Design RMSE loss 1.822\n",
      "Simple net RMSE loss 117.517\n",
      "Reconstruct RMSE loss 0.576\n",
      "Reconstruct RMSE loss raw 0.072\n",
      "[[191.96848636 203.88141006 477.56673329  92.08189938]\n",
      " [115.12096164 248.59299629 583.07927293 152.19496664]\n",
      " [ 40.40140844 206.99763644 409.19576999  96.98265555]\n",
      " ...\n",
      " [ 76.29257146 304.47152441 480.77474021  78.97236482]\n",
      " [ 58.08068083 256.07671342 540.75013687 151.31030206]\n",
      " [171.16747552 249.17232783 688.30404958 102.63288651]]\n",
      "Simple net Design RMSE loss 1.877\n",
      "Simple net RMSE loss 122.762\n",
      "Reconstruct RMSE loss 0.568\n",
      "Reconstruct RMSE loss raw 0.071\n",
      "[[190.27730387 185.1183781  369.71112716  86.56274261]\n",
      " [123.72582126 274.2716442  596.42329906 148.16740826]\n",
      " [ 54.84954884 227.41168913 499.36919222 100.7150707 ]\n",
      " ...\n",
      " [133.25130511 246.22498883 475.11334253  85.30973684]\n",
      " [ 51.67697672 220.74685232 561.74602552 151.84664993]\n",
      " [153.20832597 307.19890767 687.02560922 107.68840573]]\n"
     ]
    }
   ],
   "source": [
    "configs = get_configs('inn')\n",
    "model = INN(configs['ndim_total'], configs['input_dim'], configs['output_dim'], dim_z = configs['latent_dim']).to(DEVICE)\n",
    "model.load_state_dict(torch.load('./models/inn_trained.pth',map_location=torch.device('cpu'))['model_state_dict'], strict=False)\n",
    "\n",
    "train_loader, val_loader, test_loader = get_dataloaders('tandem_net')\n",
    "cie_raw, param_raw, cie_pred, param_pred = evaluate_inn_inverse(forward_model, model, configs, test_loader.dataset)\n",
    "\n",
    "# Saving the predicted data\n",
    "mdic = {\"param_pred\": param_pred}\n",
    "savemat(\"data_predicted\\param_inn_pred.mat\",mdic)\n",
    "print(param_pred)\n",
    "\n",
    "cie_raw, param_raw, cie_pred, param_pred = evaluate_inn_inverse(forward_model, model, configs, test_loader.dataset)\n",
    "print(param_pred)\n",
    "\n"
   ]
  },
  {
   "cell_type": "code",
   "execution_count": null,
   "metadata": {},
   "outputs": [],
   "source": []
  }
 ],
 "metadata": {
  "kernelspec": {
   "display_name": "Python 3",
   "language": "python",
   "name": "python3"
  },
  "language_info": {
   "codemirror_mode": {
    "name": "ipython",
    "version": 3
   },
   "file_extension": ".py",
   "mimetype": "text/x-python",
   "name": "python",
   "nbconvert_exporter": "python",
   "pygments_lexer": "ipython3",
   "version": "3.8.3"
  }
 },
 "nbformat": 4,
 "nbformat_minor": 4
}
