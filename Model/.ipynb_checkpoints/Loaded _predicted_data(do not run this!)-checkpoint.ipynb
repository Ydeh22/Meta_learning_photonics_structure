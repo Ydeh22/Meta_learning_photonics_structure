{
 "cells": [
  {
   "cell_type": "code",
   "execution_count": 1,
   "metadata": {},
   "outputs": [],
   "source": [
    "from scipy.io import savemat\n",
    "\n",
    "import pandas as pd\n",
    "import numpy as np\n",
    "import pickle as pkl\n",
    "from sklearn.preprocessing import StandardScaler\n",
    "\n",
    "import torch\n",
    "from torch import nn\n",
    "from torch.utils.data import Dataset, DataLoader\n",
    "import matplotlib.pyplot as plt\n",
    "\n",
    "import tqdm\n",
    "import seaborn as sns\n",
    "\n",
    "from models import MLP, TandemNet, cVAE, cGAN, INN\n",
    "from utils import evaluate_simple_inverse, evaluate_tandem_accuracy, evaluate_vae_inverse, evaluate_gan_inverse, evaluate_inn_inverse\n",
    "from configs import get_configs\n",
    "from plotting_utils import compare_cie_dist, compare_param_dist, plot_cie, plot_cie_raw_pred\n",
    "from datasets import get_dataloaders, SiliconColor\n",
    "\n",
    "from sklearn.metrics import r2_score\n",
    "\n",
    "#DEVICE = 'cuda' if torch.cuda.is_available() else 'cpu'\n",
    "DEVICE = 'cpu'\n",
    "train_loader, val_loader, test_loader = get_dataloaders('tandem_net')\n"
   ]
  },
  {
   "cell_type": "markdown",
   "metadata": {},
   "source": [
    "### Define function for checking the correctness of predicted structures"
   ]
  },
  {
   "cell_type": "code",
   "execution_count": 29,
   "metadata": {},
   "outputs": [],
   "source": [
    "def struc_check(structure):\n",
    "    if np.sum(abs(structure)-structure)>0:  # if get negative parameters, then wrong structure\n",
    "        return 0\n",
    "    else:\n",
    "        struc = np.reshape(structure, (-1, 4));\n",
    "        N = np.shape(struc)[0]\n",
    "        #print(struc)\n",
    "        for i in range(N):\n",
    "            if (struc[i,1]+struc[i,3]>=struc[i,2]):  # if gap+diameter >= period, then wrong structure\n",
    "                return 0;\n",
    "            \n",
    "        return 1;\n",
    "    \n",
    "def struc_remove(cie_raw, param_raw, param_pred):\n",
    "    # remove all structures predicted that is not satisfied by struc_check\n",
    "    M = np.shape(cie_raw)[0]\n",
    "    j = 0\n",
    "    B = np.zeros([1, 100])\n",
    "    for i in range(M-1):\n",
    "        if struc_check(param_pred[i,:])==0:\n",
    "            param_pred[j,:] = param_pred[i+1,:]\n",
    "            param_raw[j,:] = param_raw[i+1,:]\n",
    "            cie_raw[j,:] = cie_raw[i+1,:]\n",
    "            B[0,i-j] = i\n",
    "            print(i,j)\n",
    "        else:\n",
    "            param_pred[j,:] = param_pred[i,:]\n",
    "            param_raw[j,:] = param_raw[i,:]\n",
    "            cie_raw[j,:] = cie_raw[i,:]\n",
    "            j = j+1\n",
    "    i = i+1\n",
    "    \n",
    "    if struc_check(param_pred[i,:])==0:\n",
    "        param_pred = param_pred[0:j,:]\n",
    "        param_raw = param_raw[0:j,:]\n",
    "        cie_raw = cie_raw[0:j,:]\n",
    "    else:\n",
    "        param_pred[j,:] = param_pred[i,:]\n",
    "        param_raw[j,:] = param_raw[i,:]\n",
    "        cie_raw[j,:] = cie_raw[i,:]\n",
    "        param_pred = param_pred[0:(j+1),:]\n",
    "        param_raw = param_raw[0:(j+1),:]\n",
    "        cie_raw = cie_raw[0:(j+1),:]\n",
    "\n",
    "    return B, cie_raw, param_raw, param_pred"
   ]
  },
  {
   "cell_type": "markdown",
   "metadata": {},
   "source": [
    "###  Loading Data Predicted for Direct inverse training"
   ]
  },
  {
   "cell_type": "code",
   "execution_count": 30,
   "metadata": {},
   "outputs": [
    {
     "name": "stdout",
     "output_type": "stream",
     "text": [
      "Simple net Design RMSE loss 1.251\n",
      "Simple net RMSE loss 80.897\n",
      "Reconstruct RMSE loss 0.538\n",
      "Reconstruct RMSE loss raw 0.067\n",
      "43 43\n",
      "84 83\n",
      "225 223\n",
      "337 334\n",
      "714 710\n",
      "1375 1370\n",
      "1404\n",
      "[118.84330703 254.39965803 588.35666868 147.97332632]\n"
     ]
    },
    {
     "data": {
      "text/plain": [
       "(1405, 4)"
      ]
     },
     "execution_count": 30,
     "metadata": {},
     "output_type": "execute_result"
    }
   ],
   "source": [
    "forward_model = MLP(4, 3).to(DEVICE)\n",
    "forward_model.load_state_dict(torch.load('./models/forward_model_trained.pth',map_location=torch.device('cpu'))['model_state_dict'])\n",
    "inverse_model = MLP(3, 4).to(DEVICE)\n",
    "inverse_model.load_state_dict(torch.load('./models/inverse_model_trained.pth',map_location=torch.device('cpu'))['model_state_dict'])\n",
    "\n",
    "\n",
    "cie_raw, param_raw, cie_pred, param_pred = evaluate_simple_inverse(forward_model, inverse_model, test_loader.dataset)\n",
    "mdic = {\"param_pred_all\": param_pred,\"param_test_all\": param_raw,\"CIE_x_all\": cie_raw}\n",
    "savemat(\"data_predicted\\param_inverse_pred_all.mat\",mdic)\n",
    "\n",
    "cie_raw, param_raw, param_pred = struc_remove(cie_raw, param_raw, param_pred)\n",
    "\n",
    "    \n",
    "mdic = {\"param_pred\": param_pred,\"param_test\": param_raw,\"CIE_x\": cie_raw}\n",
    "savemat(\"data_predicted\\param_inverse_pred.mat\",mdic)\n",
    "\n",
    "print(param_pred[1,:])\n",
    "np.shape(param_pred)"
   ]
  },
  {
   "cell_type": "markdown",
   "metadata": {},
   "source": [
    "### Loading Data predicted for Tandem (fixed decoder)"
   ]
  },
  {
   "cell_type": "code",
   "execution_count": 101,
   "metadata": {},
   "outputs": [
    {
     "name": "stdout",
     "output_type": "stream",
     "text": [
      "Tandem net Design RMSE loss 2.042\n",
      "Tandem Design RMSE loss 138.686\n",
      "Reconstruct RMSE loss 0.149\n",
      "Reconstruct RMSE loss raw 0.019\n",
      "[126.26355856 250.77042705 618.41008658 146.16572224]\n"
     ]
    },
    {
     "data": {
      "text/plain": [
       "(1353, 4)"
      ]
     },
     "execution_count": 101,
     "metadata": {},
     "output_type": "execute_result"
    }
   ],
   "source": [
    "tandem_model = TandemNet(forward_model, inverse_model)\n",
    "tandem_model.load_state_dict(torch.load('./models/tandem_net_trained.pth',map_location=torch.device('cpu'))['model_state_dict'])\n",
    "cie_raw, param_raw, cie_pred, param_pred = evaluate_tandem_accuracy(tandem_model, test_loader.dataset)\n",
    "\n",
    "cie_raw, param_raw, param_pred = struc_remove(cie_raw, param_raw, param_pred)\n",
    "\n",
    "mdic = {\"param_pred\": param_pred,\"param_test\": param_raw,\"CIE_x\": cie_raw}\n",
    "savemat(\"data_predicted\\param_tandem_pred.mat\",mdic)\n",
    "\n",
    "print(param_pred[1,:])\n",
    "np.shape(param_pred)"
   ]
  },
  {
   "cell_type": "markdown",
   "metadata": {},
   "source": [
    "### Loading VAE"
   ]
  },
  {
   "cell_type": "code",
   "execution_count": 105,
   "metadata": {},
   "outputs": [
    {
     "name": "stdout",
     "output_type": "stream",
     "text": [
      "Simple net Design RMSE loss 1.620\n",
      "Simple net RMSE loss 106.122\n",
      "Reconstruct RMSE loss 0.733\n",
      "Reconstruct RMSE loss raw 0.093\n",
      "Simple net Design RMSE loss 1.604\n",
      "Simple net RMSE loss 105.356\n",
      "Reconstruct RMSE loss 0.728\n",
      "Reconstruct RMSE loss raw 0.092\n",
      "Simple net Design RMSE loss 1.592\n",
      "Simple net RMSE loss 104.953\n",
      "Reconstruct RMSE loss 0.722\n",
      "Reconstruct RMSE loss raw 0.091\n",
      "Simple net Design RMSE loss 1.613\n",
      "Simple net RMSE loss 106.218\n",
      "Reconstruct RMSE loss 0.719\n",
      "Reconstruct RMSE loss raw 0.091\n",
      "Simple net Design RMSE loss 1.586\n",
      "Simple net RMSE loss 103.444\n",
      "Reconstruct RMSE loss 0.734\n",
      "Reconstruct RMSE loss raw 0.092\n",
      "[128.22248408 284.07706476 589.86812353 140.83615206 123.29013734\n",
      " 226.89445395 562.33358407 144.99928838 123.54829856 243.69848843\n",
      " 573.3613685  143.91381004 111.73444383 233.22432257 547.15968142\n",
      " 150.48513921 103.45575662 284.21354583 584.91598991 149.35684015]\n"
     ]
    },
    {
     "data": {
      "text/plain": [
       "(1392, 20)"
      ]
     },
     "execution_count": 105,
     "metadata": {},
     "output_type": "execute_result"
    }
   ],
   "source": [
    "configs = get_configs('vae')\n",
    "vae_model = cVAE(configs['input_dim'], configs['latent_dim']).to(DEVICE)\n",
    "vae_model.load_state_dict(torch.load('./models/vae_trained.pth',map_location=torch.device('cpu'))['model_state_dict'])\n",
    "\n",
    "param_pred = np.zeros([M, 4*5])\n",
    "for i in range(5):\n",
    "    cie_raw, param_raw, cie_pred, param_pred[:,(4*i):(4*i+4)] = evaluate_vae_inverse(forward_model, vae_model, configs, test_loader.dataset)\n",
    "\n",
    "cie_raw, param_raw, param_pred = struc_remove(cie_raw, param_raw, param_pred)\n",
    "    \n",
    "# Saving the predicted data\n",
    "mdic = {\"param_pred\": param_pred,\"param_test\": param_raw,\"CIE_x\": cie_raw}\n",
    "savemat(\"data_predicted\\param_vae_pred.mat\",mdic)\n",
    "\n",
    "print(param_pred[1,:])\n",
    "np.shape(param_pred)"
   ]
  },
  {
   "cell_type": "markdown",
   "metadata": {},
   "source": [
    "### Loading GAN\n"
   ]
  },
  {
   "cell_type": "code",
   "execution_count": 106,
   "metadata": {},
   "outputs": [
    {
     "name": "stdout",
     "output_type": "stream",
     "text": [
      "Simple net Design RMSE loss 2.803\n",
      "Simple net RMSE loss 183.845\n",
      "Reconstruct RMSE loss 1.597\n",
      "Reconstruct RMSE loss raw 0.196\n",
      "Simple net Design RMSE loss 2.791\n",
      "Simple net RMSE loss 184.153\n",
      "Reconstruct RMSE loss 1.583\n",
      "Reconstruct RMSE loss raw 0.194\n",
      "Simple net Design RMSE loss 2.779\n",
      "Simple net RMSE loss 184.445\n",
      "Reconstruct RMSE loss 1.574\n",
      "Reconstruct RMSE loss raw 0.193\n",
      "Simple net Design RMSE loss 2.828\n",
      "Simple net RMSE loss 186.039\n",
      "Reconstruct RMSE loss 1.587\n",
      "Reconstruct RMSE loss raw 0.194\n",
      "Simple net Design RMSE loss 2.817\n",
      "Simple net RMSE loss 183.576\n",
      "Reconstruct RMSE loss 1.620\n",
      "Reconstruct RMSE loss raw 0.198\n",
      "[163.17891853 316.41598413 652.84285326 126.67604819 153.45353549\n",
      " 315.91993033 645.55007942 126.02520834 119.31895266 307.76935976\n",
      " 617.62451851 126.12458667 194.8339568  320.48920235 662.60969363\n",
      " 129.97888212 113.29459683 306.17487317 613.02977502 126.42097424]\n"
     ]
    },
    {
     "data": {
      "text/plain": [
       "(1218, 20)"
      ]
     },
     "execution_count": 106,
     "metadata": {},
     "output_type": "execute_result"
    }
   ],
   "source": [
    "configs = get_configs('gan')\n",
    "cgan = cGAN(3, 4, noise_dim = configs['noise_dim'], hidden_dim = 128).to(DEVICE)\n",
    "cgan.load_state_dict(torch.load('./models/gan_trained.pth',map_location=torch.device('cpu'))['model_state_dict'])\n",
    "\n",
    "\n",
    "param_pred = np.zeros([M, 4*5])\n",
    "for i in range(5):\n",
    "    cie_raw, param_raw, cie_pred, param_pred[:,(4*i):(4*i+4)] = evaluate_gan_inverse(forward_model, cgan, configs, test_loader.dataset)\n",
    "\n",
    "cie_raw, param_raw, param_pred = struc_remove(cie_raw, param_raw, param_pred)\n",
    "\n",
    "# Saving the predicted data\n",
    "mdic = {\"param_pred\": param_pred,\"param_test\": param_raw,\"CIE_x\": cie_raw}\n",
    "savemat(\"data_predicted\\param_gan_pred.mat\",mdic)\n",
    "\n",
    "print(param_pred[1,:])\n",
    "np.shape(param_pred)"
   ]
  },
  {
   "cell_type": "markdown",
   "metadata": {},
   "source": [
    "### Loading INN"
   ]
  },
  {
   "cell_type": "code",
   "execution_count": 87,
   "metadata": {},
   "outputs": [
    {
     "name": "stdout",
     "output_type": "stream",
     "text": [
      "Simple net Design RMSE loss 2.363\n",
      "Simple net RMSE loss 163.386\n",
      "Reconstruct RMSE loss 0.753\n",
      "Reconstruct RMSE loss raw 0.094\n",
      "Simple net Design RMSE loss 2.363\n",
      "Simple net RMSE loss 165.053\n",
      "Reconstruct RMSE loss 0.763\n",
      "Reconstruct RMSE loss raw 0.095\n",
      "Simple net Design RMSE loss 2.419\n",
      "Simple net RMSE loss 168.421\n",
      "Reconstruct RMSE loss 0.799\n",
      "Reconstruct RMSE loss raw 0.100\n",
      "Simple net Design RMSE loss 2.451\n",
      "Simple net RMSE loss 172.058\n",
      "Reconstruct RMSE loss 0.834\n",
      "Reconstruct RMSE loss raw 0.104\n",
      "Simple net Design RMSE loss 2.448\n",
      "Simple net RMSE loss 170.385\n",
      "Reconstruct RMSE loss 0.808\n",
      "Reconstruct RMSE loss raw 0.100\n",
      "[135.37282658 284.91510624 610.9944373  151.34342303 138.76523267\n",
      " 290.76026958 617.02373587 146.99066369 128.96193298 301.43530268\n",
      " 622.50504322 152.6264333  147.0968108  309.48886482 621.83425684\n",
      " 148.66703944 131.57478028 326.98273091 609.0408087  154.1810899 ]\n"
     ]
    },
    {
     "data": {
      "text/plain": [
       "(1238, 20)"
      ]
     },
     "execution_count": 87,
     "metadata": {},
     "output_type": "execute_result"
    }
   ],
   "source": [
    "configs = get_configs('inn')\n",
    "model = INN(configs['ndim_total'], configs['input_dim'], configs['output_dim'], dim_z = configs['latent_dim']).to(DEVICE)\n",
    "model.load_state_dict(torch.load('./models/inn_trained.pth',map_location=torch.device('cpu'))['model_state_dict'], strict=False)\n",
    "\n",
    "param_pred = np.zeros([M, 4*5])\n",
    "for i in range(5):\n",
    "    cie_raw, param_raw, cie_pred, param_pred[:,(4*i):(4*i+4)] = evaluate_inn_inverse(forward_model, model, configs, test_loader.dataset)\n",
    "    \n",
    "cie_raw, param_raw, param_pred = struc_remove(cie_raw, param_raw, param_pred)\n",
    "\n",
    "# Saving the predicted data\n",
    "mdic = {\"param_pred\": param_pred,\"param_test\": param_raw,\"CIE_x\": cie_raw}\n",
    "savemat(\"data_predicted\\param_inn_pred.mat\",mdic)\n",
    "\n",
    "print(param_pred[1,:])\n",
    "\n",
    "np.shape(param_pred)"
   ]
  },
  {
   "cell_type": "code",
   "execution_count": null,
   "metadata": {},
   "outputs": [],
   "source": []
  }
 ],
 "metadata": {
  "kernelspec": {
   "display_name": "Python 3",
   "language": "python",
   "name": "python3"
  },
  "language_info": {
   "codemirror_mode": {
    "name": "ipython",
    "version": 3
   },
   "file_extension": ".py",
   "mimetype": "text/x-python",
   "name": "python",
   "nbconvert_exporter": "python",
   "pygments_lexer": "ipython3",
   "version": "3.8.3"
  }
 },
 "nbformat": 4,
 "nbformat_minor": 4
}
